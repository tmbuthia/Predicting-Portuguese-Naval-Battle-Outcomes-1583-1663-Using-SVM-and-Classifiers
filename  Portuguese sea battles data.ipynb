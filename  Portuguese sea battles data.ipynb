{
 "cells": [
  {
   "cell_type": "code",
   "execution_count": 1,
   "id": "eed4afb3",
   "metadata": {},
   "outputs": [],
   "source": [
    "import pandas as pd\n",
    "import numpy as np\n",
    "from sklearn.model_selection import train_test_split\n",
    "from sklearn.svm import SVC\n",
    "from sklearn.ensemble import RandomForestClassifier\n",
    "from sklearn.linear_model import LogisticRegression\n",
    "from sklearn.metrics import accuracy_score, classification_report, mean_squared_error"
   ]
  },
  {
   "cell_type": "code",
   "execution_count": 12,
   "id": "2adc3de5",
   "metadata": {},
   "outputs": [
    {
     "data": {
      "text/html": [
       "<div>\n",
       "<style scoped>\n",
       "    .dataframe tbody tr th:only-of-type {\n",
       "        vertical-align: middle;\n",
       "    }\n",
       "\n",
       "    .dataframe tbody tr th {\n",
       "        vertical-align: top;\n",
       "    }\n",
       "\n",
       "    .dataframe thead th {\n",
       "        text-align: right;\n",
       "    }\n",
       "</style>\n",
       "<table border=\"1\" class=\"dataframe\">\n",
       "  <thead>\n",
       "    <tr style=\"text-align: right;\">\n",
       "      <th></th>\n",
       "      <th>Battle</th>\n",
       "      <th>Year</th>\n",
       "      <th>Portuguese ships</th>\n",
       "      <th>Dutch ships</th>\n",
       "      <th>English ships</th>\n",
       "      <th>The ratio of Portuguese to Dutch/British ships</th>\n",
       "      <th>Spanish Involvement</th>\n",
       "      <th>Portuguese outcome</th>\n",
       "    </tr>\n",
       "  </thead>\n",
       "  <tbody>\n",
       "    <tr>\n",
       "      <th>0</th>\n",
       "      <td>Bantam</td>\n",
       "      <td>1601</td>\n",
       "      <td>6</td>\n",
       "      <td>3</td>\n",
       "      <td>0</td>\n",
       "      <td>2.000</td>\n",
       "      <td>0</td>\n",
       "      <td>0</td>\n",
       "    </tr>\n",
       "    <tr>\n",
       "      <th>1</th>\n",
       "      <td>Malacca Strait</td>\n",
       "      <td>1606</td>\n",
       "      <td>14</td>\n",
       "      <td>11</td>\n",
       "      <td>0</td>\n",
       "      <td>1.273</td>\n",
       "      <td>0</td>\n",
       "      <td>0</td>\n",
       "    </tr>\n",
       "    <tr>\n",
       "      <th>2</th>\n",
       "      <td>Ilha das Naus</td>\n",
       "      <td>1606</td>\n",
       "      <td>6</td>\n",
       "      <td>9</td>\n",
       "      <td>0</td>\n",
       "      <td>0.667</td>\n",
       "      <td>0</td>\n",
       "      <td>-1</td>\n",
       "    </tr>\n",
       "    <tr>\n",
       "      <th>3</th>\n",
       "      <td>Pulo Butum</td>\n",
       "      <td>1606</td>\n",
       "      <td>7</td>\n",
       "      <td>9</td>\n",
       "      <td>0</td>\n",
       "      <td>0.778</td>\n",
       "      <td>0</td>\n",
       "      <td>1</td>\n",
       "    </tr>\n",
       "    <tr>\n",
       "      <th>4</th>\n",
       "      <td>Surrat</td>\n",
       "      <td>1615</td>\n",
       "      <td>6</td>\n",
       "      <td>0</td>\n",
       "      <td>4</td>\n",
       "      <td>1.500</td>\n",
       "      <td>0</td>\n",
       "      <td>0</td>\n",
       "    </tr>\n",
       "  </tbody>\n",
       "</table>\n",
       "</div>"
      ],
      "text/plain": [
       "           Battle  Year  Portuguese ships  Dutch ships  English ships  \\\n",
       "0          Bantam  1601                 6            3              0   \n",
       "1  Malacca Strait  1606                14           11              0   \n",
       "2   Ilha das Naus  1606                 6            9              0   \n",
       "3      Pulo Butum  1606                 7            9              0   \n",
       "4          Surrat  1615                 6            0              4   \n",
       "\n",
       "   The ratio of Portuguese to Dutch/British ships  Spanish Involvement  \\\n",
       "0                                           2.000                    0   \n",
       "1                                           1.273                    0   \n",
       "2                                           0.667                    0   \n",
       "3                                           0.778                    0   \n",
       "4                                           1.500                    0   \n",
       "\n",
       "   Portuguese outcome  \n",
       "0                   0  \n",
       "1                   0  \n",
       "2                  -1  \n",
       "3                   1  \n",
       "4                   0  "
      ]
     },
     "execution_count": 12,
     "metadata": {},
     "output_type": "execute_result"
    }
   ],
   "source": [
    "# Load the dataset\n",
    "df = pd.read_excel(\"Portuguese_sea_battles_data.xlsx\",header = None)\n",
    "\n",
    "df.columns = [\"Battle\",\"Year\", \"Portuguese ships\", \"Dutch ships\",\"English ships\",\"The ratio of Portuguese to Dutch/British ships\",\"Spanish Involvement\",\"Portuguese outcome\"]\n",
    "\n",
    "df.head()"
   ]
  },
  {
   "cell_type": "code",
   "execution_count": 3,
   "id": "682ab629",
   "metadata": {},
   "outputs": [],
   "source": [
    "# Prepare the data\n",
    "X = df[['Portuguese ships', 'Dutch ships', 'English ships', 'The ratio of Portuguese to Dutch/British ships', 'Spanish Involvement']]\n",
    "y = df['Portuguese outcome']\n",
    "\n",
    "# Standardize features\n",
    "scaler = StandardScaler()\n",
    "features_standardized = scaler.fit_transform(X)\n",
    "\n",
    "# Split the data into training and testing sets\n",
    "X_train, X_test, y_train, y_test = train_test_split(X, y, test_size=0.2, random_state=42)"
   ]
  },
  {
   "cell_type": "markdown",
   "id": "dfcc1cbc",
   "metadata": {},
   "source": [
    "#### Use an SVM-based model to predict the Portuguese outcome of the battle from the number of ships involved on all sides and Spanish involvement"
   ]
  },
  {
   "cell_type": "code",
   "execution_count": 13,
   "id": "1d03b25c",
   "metadata": {},
   "outputs": [
    {
     "name": "stdout",
     "output_type": "stream",
     "text": [
      "Linear SVM Results:\n",
      "Accuracy: 0.3333333333333333\n",
      "Classification Report:\n",
      "               precision    recall  f1-score   support\n",
      "\n",
      "          -1       0.33      0.50      0.40         2\n",
      "           0       0.33      0.33      0.33         3\n",
      "           1       1.00      0.00      0.00         1\n",
      "\n",
      "    accuracy                           0.33         6\n",
      "   macro avg       0.56      0.28      0.24         6\n",
      "weighted avg       0.44      0.33      0.30         6\n",
      "\n",
      "Mean Squared Error: 0.6666666666666666\n"
     ]
    }
   ],
   "source": [
    "# Linear Kernel:\n",
    "lsvm_model = SVC(kernel='linear')\n",
    "\n",
    "# Train and evaluate the SVM\n",
    "lsvm_model.fit(X_train, y_train)\n",
    "lsvm_predictions = lsvm_model.predict(X_test)\n",
    "lsvm_accuracy = accuracy_score(y_test, lsvm_predictions)\n",
    "lsvm_classification_report = classification_report(y_test, lsvm_predictions, zero_division=1)\n",
    "\n",
    "# Calculate Mean Squared Error\n",
    "lsvm_mse = mean_squared_error(y_test, lsvm_predictions)\n",
    "\n",
    "# Print results for model\n",
    "print(\"Linear SVM Results:\")\n",
    "print(\"Accuracy:\", lsvm_accuracy)\n",
    "print(\"Classification Report:\\n\", lsvm_classification_report)\n",
    "print(\"Mean Squared Error:\", lsvm_mse)"
   ]
  },
  {
   "cell_type": "code",
   "execution_count": 5,
   "id": "f7d749ab",
   "metadata": {},
   "outputs": [
    {
     "name": "stdout",
     "output_type": "stream",
     "text": [
      "Random Forest Model Accuracy: 0.3333333333333333\n",
      "\n",
      "Random Forest Classification Report:\n",
      "               precision    recall  f1-score   support\n",
      "\n",
      "          -1       0.50      0.50      0.50         2\n",
      "           0       0.33      0.33      0.33         3\n",
      "           1       0.00      0.00      0.00         1\n",
      "\n",
      "    accuracy                           0.33         6\n",
      "   macro avg       0.28      0.28      0.28         6\n",
      "weighted avg       0.33      0.33      0.33         6\n",
      "\n",
      "Mean Squared Error (random selection): 0.50\n"
     ]
    }
   ],
   "source": [
    "# Train Random Forest classifier\n",
    "rf_model = RandomForestClassifier(random_state=42)\n",
    "rf_model.fit(X_train, y_train)\n",
    "\n",
    "# Evaluate Random Forest classifier\n",
    "rf_predictions = rf_model.predict(X_test)\n",
    "rf_accuracy = accuracy_score(y_test, rf_predictions)\n",
    "rf_classification_report = classification_report(y_test, rf_predictions)\n",
    "print(\"Random Forest Model Accuracy:\", rf_accuracy)\n",
    "\n",
    "\n",
    "# Classification Report\n",
    "print(\"\\nRandom Forest Classification Report:\\n\", classification_report(y_test, rf_predictions))\n",
    "\n",
    "# Perform random selection on the training data\n",
    "min_samples = 10  # this is random minimum sample size\n",
    "random_indices = np.random.choice(X_train.shape[0], size=min_samples, replace=False)\n",
    "random_X_train = X_train.iloc[random_indices]\n",
    "random_y_train = y_train.iloc[random_indices]  # Assuming y_train is a Series object\n",
    "\n",
    "# Train the model on the randomly selected data\n",
    "rf_model.fit(random_X_train, random_y_train)\n",
    "# Make predictions on the testing data\n",
    "y_pred_random = rf_model.predict(X_test)\n",
    "\n",
    "# Evaluate the model using mean squared error\n",
    "mse_random = mean_squared_error(y_test, y_pred_random)\n",
    "print(f'Mean Squared Error (random selection): {mse_random:.2f}')"
   ]
  },
  {
   "cell_type": "code",
   "execution_count": 6,
   "id": "677ff0c1",
   "metadata": {},
   "outputs": [
    {
     "name": "stdout",
     "output_type": "stream",
     "text": [
      "\n",
      " Logistic Regression Model Accuracy: 0.3333333333333333\n",
      "\n",
      " Logistic Regression Classification Report:\n",
      "               precision    recall  f1-score   support\n",
      "\n",
      "          -1       0.33      0.50      0.40         2\n",
      "           0       0.33      0.33      0.33         3\n",
      "           1       1.00      0.00      0.00         1\n",
      "\n",
      "    accuracy                           0.33         6\n",
      "   macro avg       0.56      0.28      0.24         6\n",
      "weighted avg       0.44      0.33      0.30         6\n",
      "\n",
      "Mean Squared Error: 0.67\n"
     ]
    }
   ],
   "source": [
    "# Train Logistic Regression classifier with increased max_iter\n",
    "lr_model = LogisticRegression(max_iter=1000)\n",
    "lr_model.fit(X_train, y_train)\n",
    "\n",
    "# Evaluate Logistic Regression classifier\n",
    "lr_predictions = lr_model.predict(X_test)\n",
    "lr_accuracy = accuracy_score(y_test, lr_predictions)\n",
    "lr_classification_report = classification_report(y_test, lr_predictions, zero_division=1)\n",
    "print(\"\\n Logistic Regression Model Accuracy:\", lr_accuracy)\n",
    "print(\"\\n Logistic Regression Classification Report:\\n\", lr_classification_report)\n",
    "\n",
    "# Evaluate the model using mean squared error\n",
    "mse = mean_squared_error(y_test, lr_predictions)\n",
    "print(f'Mean Squared Error: {mse:.2f}')"
   ]
  },
  {
   "cell_type": "code",
   "execution_count": 14,
   "id": "5d228f5a",
   "metadata": {},
   "outputs": [
    {
     "name": "stdout",
     "output_type": "stream",
     "text": [
      "Polynomial SVM Results:\n",
      "Accuracy: 0.5\n",
      "Classification Report:\n",
      "               precision    recall  f1-score   support\n",
      "\n",
      "          -1       1.00      0.00      0.00         2\n",
      "           0       0.50      1.00      0.67         3\n",
      "           1       1.00      0.00      0.00         1\n",
      "\n",
      "    accuracy                           0.50         6\n",
      "   macro avg       0.83      0.33      0.22         6\n",
      "weighted avg       0.75      0.50      0.33         6\n",
      "\n",
      "Mean Squared Error: 0.5\n"
     ]
    }
   ],
   "source": [
    "# Polynomial Kernel:\n",
    "poly_svm_model = SVC(kernel='poly', degree=3)\n",
    "\n",
    "# Train and evaluate the  SVM\n",
    "poly_svm_model.fit(X_train, y_train)\n",
    "poly_svm_predictions = poly_svm_model.predict(X_test)\n",
    "poly_svm_accuracy = accuracy_score(y_test, poly_svm_predictions)\n",
    "poly_svm_classification_report = classification_report(y_test, poly_svm_predictions, zero_division=1)\n",
    "\n",
    "# Calculate Mean Squared Error\n",
    "poly_svm_mse = mean_squared_error(y_test, poly_svm_predictions)\n",
    "\n",
    "# Print results for  model\n",
    "print(\"Polynomial SVM Results:\")\n",
    "print(\"Accuracy:\", poly_svm_accuracy)\n",
    "print(\"Classification Report:\\n\", poly_svm_classification_report)\n",
    "print(\"Mean Squared Error:\", poly_svm_mse)"
   ]
  },
  {
   "cell_type": "markdown",
   "id": "f224fde6",
   "metadata": {},
   "source": [
    "Report and compare their results with those from SVM."
   ]
  },
  {
   "cell_type": "markdown",
   "id": "0d9470a5",
   "metadata": {},
   "source": [
    "### Model summary\n",
    "|Model|Accuracy|F1-score (Class -1)|F1-score (Class 0)|F1-score (Class 1)|\n",
    "|___|___|___|___|___|\n",
    "|Logistic Regression |33.33%|\t|0.40\t           |0.33\t           |0.00|\n",
    "|Random Forest\t    |50.00%\t    |0.50\t           |0.57\t           |0.00|\n",
    "|SVM (Linear)\t    |33.33%\t    |0.40\t           |0.33\t           |0.00|\n",
    "|SVM (Polynomial)\t|50.00%\t    |0.00\t           |0.67\t           |0.00|\n",
    "|SVM (RBF)\t        |50.00%\t    |0.00\t           |0.67\t           |0.00|"
   ]
  },
  {
   "cell_type": "markdown",
   "id": "0aeb168e",
   "metadata": {},
   "source": [
    "Linear SVM has an accuracy of 33.33% which means the linear SVM model correctly classified 2 out of 6 instances. The model struggled to distinguish between classes, especially for class 1.\n",
    "The Polynomial SVM had an accuracy of 50% which says the polynomial SVM model correctly classified half of the instances. The model achieved better accuracy than the linear SVM, but it still struggled to classify instances from class -1 and 1.\n",
    "The RBF SVM had an accuracy of 50% which means the model also correctly classified half of the instances similar to the polynomial SVM. The RBF SVM, like the polynomial SVM, struggled to classify instances from class -1 and 1.\n",
    "The SVM models had difficulties distinguishing between classes, especially for class 1. This suggests that the dataset may be challenging to classify using SVM algorithms."
   ]
  },
  {
   "cell_type": "markdown",
   "id": "809256e2",
   "metadata": {},
   "source": [
    "The logistic regression model performed similarly to the linear SVM, with an accuracy of 33.33%. It struggled to classify instances from class 1, resulting in low precision and F1-score for that class. The random forest model achieved an accuracy of 50%, performing slightly better than logistic regression and linear SVM but it still struggled to classify instances from class 1, resulting in a low F1-score and precision for that class. Comparing with SVM:\n",
    "Both logistic regression and random forest performed similarly to SVM in terms of accuracy, with logistic regression having the lowest accuracy and random forest having the highest. Precision and F1-score for class 1 were consistently low across all models, indicating difficulties in correctly classifying instances from this class. Random forest showed slightly better performance in terms of F1-score and precision for class -1 and 0 compared to logistic regression and SVM."
   ]
  }
 ],
 "metadata": {
  "kernelspec": {
   "display_name": "Python 3 (ipykernel)",
   "language": "python",
   "name": "python3"
  },
  "language_info": {
   "codemirror_mode": {
    "name": "ipython",
    "version": 3
   },
   "file_extension": ".py",
   "mimetype": "text/x-python",
   "name": "python",
   "nbconvert_exporter": "python",
   "pygments_lexer": "ipython3",
   "version": "3.11.5"
  }
 },
 "nbformat": 4,
 "nbformat_minor": 5
}
